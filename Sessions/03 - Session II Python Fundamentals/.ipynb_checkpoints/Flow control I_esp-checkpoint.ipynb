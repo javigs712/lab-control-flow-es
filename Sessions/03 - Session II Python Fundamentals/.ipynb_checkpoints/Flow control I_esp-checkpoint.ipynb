{
 "cells": [
  {
   "cell_type": "markdown",
   "id": "subjective-quarter",
   "metadata": {
    "toc": true
   },
   "source": [
    "<h1>Table of Contents<span class=\"tocSkip\"></span></h1>\n",
    "<div class=\"toc\"><ul class=\"toc-item\"><li><span><a href=\"#Arithmetic-operators\" data-toc-modified-id=\"Arithmetic-operators-1\"><span class=\"toc-item-num\">1&nbsp;&nbsp;</span>Arithmetic operators</a></span></li><li><span><a href=\"#Assignment-operators\" data-toc-modified-id=\"Assignment-operators-2\"><span class=\"toc-item-num\">2&nbsp;&nbsp;</span>Assignment operators</a></span></li><li><span><a href=\"#Relational-operators\" data-toc-modified-id=\"Relational-operators-3\"><span class=\"toc-item-num\">3&nbsp;&nbsp;</span>Relational operators</a></span><ul class=\"toc-item\"><li><span><a href=\"#Extra:-equals-vs-is\" data-toc-modified-id=\"Extra:-equals-vs-is-3.1\"><span class=\"toc-item-num\">3.1&nbsp;&nbsp;</span>Extra: equals vs is</a></span></li></ul></li><li><span><a href=\"#Pseudocode\" data-toc-modified-id=\"Pseudocode-4\"><span class=\"toc-item-num\">4&nbsp;&nbsp;</span>Pseudocode</a></span></li><li><span><a href=\"#The-&quot;If&quot;-statement\" data-toc-modified-id=\"The-&quot;If&quot;-statement-5\"><span class=\"toc-item-num\">5&nbsp;&nbsp;</span>The \"If\" statement</a></span><ul class=\"toc-item\"><li><ul class=\"toc-item\"><li><span><a href=\"#Syntax-things-to-consider:\" data-toc-modified-id=\"Syntax-things-to-consider:-5.0.1\"><span class=\"toc-item-num\">5.0.1&nbsp;&nbsp;</span>Syntax things to consider:</a></span></li></ul></li><li><span><a href=\"#elif\" data-toc-modified-id=\"elif-5.1\"><span class=\"toc-item-num\">5.1&nbsp;&nbsp;</span>elif</a></span></li><li><span><a href=\"#else\" data-toc-modified-id=\"else-5.2\"><span class=\"toc-item-num\">5.2&nbsp;&nbsp;</span>else</a></span></li><li><span><a href=\"#Your-examples-🚀\" data-toc-modified-id=\"Your-examples-🚀-5.3\"><span class=\"toc-item-num\">5.3&nbsp;&nbsp;</span>Your examples 🚀</a></span></li></ul></li><li><span><a href=\"#Summary\" data-toc-modified-id=\"Summary-6\"><span class=\"toc-item-num\">6&nbsp;&nbsp;</span>Summary</a></span></li><li><span><a href=\"#Further-materials\" data-toc-modified-id=\"Further-materials-7\"><span class=\"toc-item-num\">7&nbsp;&nbsp;</span>Further materials</a></span></li></ul></div>"
   ]
  },
  {
   "cell_type": "markdown",
   "id": "italic-editor",
   "metadata": {},
   "source": [
    "# Control de Flujo    \n",
    "Vamos con la corriente\n",
    "![](https://media.makeameme.org/created/im-just-going-ca4ce2c899.jpg)\n",
    "\n",
    "## Operadores aritméticos\n",
    "\n",
    "Los operadores aritméticos se utilizan para realizar operaciones aritméticas, es decir, para manipular datos numéricos a través de operaciones matemáticas tales como la adición, sustracción o multiplicación..."
   ]
  },
  {
   "cell_type": "code",
   "execution_count": null,
   "id": "8b428e9f",
   "metadata": {},
   "outputs": [],
   "source": [
    "a = 10\n",
    "b = 2"
   ]
  },
  {
   "cell_type": "code",
   "execution_count": null,
   "id": "acf7670d",
   "metadata": {},
   "outputs": [],
   "source": [
    "a + b"
   ]
  },
  {
   "cell_type": "code",
   "execution_count": null,
   "id": "6ce9df2d",
   "metadata": {},
   "outputs": [],
   "source": [
    "a * b"
   ]
  },
  {
   "cell_type": "markdown",
   "id": "7dae48c3",
   "metadata": {},
   "source": [
    "`+`, `*`, bla bla bla"
   ]
  },
  {
   "cell_type": "markdown",
   "id": "e3982cf4",
   "metadata": {},
   "source": [
    "## Operadores de asignación (Trucos de Python)\n",
    "![](https://i.pinimg.com/236x/2b/dd/c9/2bddc91accccb9b70178c49cf5684bed.jpg)\n",
    "Los operadores de asignación son aquellos que permiten dar un valor a una variable o modificarlo. Python tiene ocho diferentes operadores de asignación: un operador de asignación simple y siete operadores de asignación compuestos.\n",
    "* `=` Asignación simple `a=b`\n",
    "* `+=` Asignación de adición `a+=b` Equivalente simple `a=a+b`\n",
    "* `-=` Asignación de sustracción `a-=b` Equivalente simple `a=a-b`\n",
    "* `*=` Asignación de multiplicación `a*=b` Equivalente simple `a=a*b`\n",
    "* `/=` Asignación de división `a/=b` Equivalente simple `a=a/b`\n",
    "* `%=` Asignación de módulo `a%=b` Equivalente simple `a=a%b`\n",
    "* `//=` Asignación de división entera `a//=b` Equivalente simple `a=a//b`"
   ]
  },
  {
   "cell_type": "code",
   "execution_count": null,
   "id": "7dba4669",
   "metadata": {},
   "outputs": [],
   "source": [
    "a = a + 1"
   ]
  },
  {
   "cell_type": "code",
   "execution_count": null,
   "id": "cf20037c",
   "metadata": {},
   "outputs": [],
   "source": [
    "a += 1"
   ]
  },
  {
   "cell_type": "code",
   "execution_count": null,
   "id": "32b08634",
   "metadata": {},
   "outputs": [],
   "source": [
    "a"
   ]
  },
  {
   "cell_type": "markdown",
   "id": "89b42f24",
   "metadata": {
    "lang": "en"
   },
   "source": [
    "El operador de asignación simple es el símbolo igual (=) y las operaciones realizadas sobre él siempre tienen la sintaxis: `variable = expresión`. En este tipo de operación, primero, se resuelve la expresión de la derecha y el valor resultante se asigna a la variable de la izquierda."
   ]
  },
  {
   "cell_type": "code",
   "execution_count": null,
   "id": "709c2301",
   "metadata": {},
   "outputs": [],
   "source": [
    "# Coge un poco de tiempo, y práctica"
   ]
  },
  {
   "cell_type": "markdown",
   "id": "38d5146c",
   "metadata": {
    "lang": "en"
   },
   "source": [
    "## Operadores relacionales\n",
    "Los operadores relacionales son símbolos utilizados para comparar dos valores o expresiones. El resultado de la evaluación con estos operadores puede ser True, si la comparación es verdadera, o False, si la comparación es falsa.\n",
    "* `==` Igual a `a==b`\n",
    "* `!=` Diferente de `a!=b`\n",
    "* `>` Mayor que `a>b`\n",
    "* `<` Menor que `a<b` \n",
    "* `>=` Mayor o igual que `a>=b`\n",
    "* `<=` Menor o igual que `a<=b`\n",
    "Nota la diferencia entre un signo igual (=), que es una asignación, y un doble signo igual (==), que es un operador relacional\n",
    "\n",
    "**Consejo: Utiliza paréntesis para mantener el orden de las operaciones."
   ]
  },
  {
   "cell_type": "code",
   "execution_count": null,
   "id": "ac9ccfb3",
   "metadata": {},
   "outputs": [],
   "source": [
    "a = 10"
   ]
  },
  {
   "cell_type": "code",
   "execution_count": null,
   "id": "6e28aea1",
   "metadata": {},
   "outputs": [],
   "source": [
    "a == 10"
   ]
  },
  {
   "cell_type": "code",
   "execution_count": null,
   "id": "c00bf648",
   "metadata": {},
   "outputs": [],
   "source": [
    "a != 10"
   ]
  },
  {
   "cell_type": "code",
   "execution_count": null,
   "id": "3dde583b",
   "metadata": {},
   "outputs": [],
   "source": [
    "a > b"
   ]
  },
  {
   "cell_type": "code",
   "execution_count": null,
   "id": "4efdcce8",
   "metadata": {},
   "outputs": [],
   "source": [
    "a < b"
   ]
  },
  {
   "cell_type": "code",
   "execution_count": null,
   "id": "16a5b605",
   "metadata": {},
   "outputs": [],
   "source": [
    "a <= b"
   ]
  },
  {
   "cell_type": "code",
   "execution_count": null,
   "id": "de053fec",
   "metadata": {},
   "outputs": [],
   "source": [
    "b <= a"
   ]
  },
  {
   "cell_type": "markdown",
   "id": "0bf8a056",
   "metadata": {
    "lang": "en"
   },
   "source": [
    "Con solo estos dos valores `True`|`False` podemos crear toda una rama de las matemáticas llamada [Álgebra Booleana](https://en.wikipedia.org/wiki/Boolean_algebra#Laws). Mientras que en el Álgebra regular las operaciones básicas son la adición y la multiplicación, las operaciones principales en el Álgebra Booleana son la conjunción (y), la disyunción (o), y la negación (no). **Es el formalismo utilizado para describir las operaciones lógicas**.\n",
    "\n",
    "En [Python escribimos estas operaciones](https://www.geeksforgeeks.org/python-3-logical-operators/?ref=rp) como:\n",
    "\n",
    "- `==`\n",
    "* `x` y `y`\n",
    "* `x` o `y`\n",
    "* no `x`\n",
    "* Extra: `^` [operador caret](https://stackoverflow.com/questions/2451386/what-does-the-caret-operator-do)\n",
    "\n",
    "Aunque el significado de estas operaciones es claro, podemos definirlas completamente con la llamada \"tabla de verdad\":\n",
    "\n",
    "![tablas](http://elclubdelautodidacta.es/wp/wp-content/uploads/2012/11/python-logicos.png)\n",
    "\n",
    "También podemos incluir el OR EXCLUSIVO, que es verdadero cuando uno y solo uno de los operandos es verdadero, pero estrictamente debes saber que se deriva de los tres básicos. Su representación es ^, el sombrero o caret.\n",
    "\n",
    "- **igualdad** vs **identidad**\n",
    "\n",
    "[Algunos documentos](https://towardsdatascience.com/whats-the-difference-between-is-and-in-python-dc26406c85ad)\n",
    "\n",
    "`==` -> apunta al valor <br>\n",
    "`is` -> busca la identidad"
   ]
  },
  {
   "cell_type": "code",
   "execution_count": null,
   "id": "873ada8d",
   "metadata": {},
   "outputs": [],
   "source": [
    "# Ejemplo 1: Comparando números\n",
    "a = 5\n",
    "b = 5\n",
    "\n",
    "print(a == b) # True, porque los valores de 'a' y 'b' son iguales"
   ]
  },
  {
   "cell_type": "code",
   "execution_count": null,
   "id": "44e6eefc",
   "metadata": {},
   "outputs": [],
   "source": [
    "print(a is b) # True, porque 'a' y 'b' hacen referencia al mismo objeto en memoria (optimización de Python para números pequeños)"
   ]
  },
  {
   "cell_type": "code",
   "execution_count": null,
   "id": "5a1aa6df",
   "metadata": {},
   "outputs": [],
   "source": [
    "# Ejemplo 2: Comparando listas\n",
    "lista1 = [1, 2, 3]\n",
    "lista2 = [1, 2, 3]"
   ]
  },
  {
   "cell_type": "code",
   "execution_count": null,
   "id": "f714c908",
   "metadata": {},
   "outputs": [],
   "source": [
    "print(lista1 == lista2) # True, porque los valores de 'lista1' y 'lista2' son iguales"
   ]
  },
  {
   "cell_type": "code",
   "execution_count": null,
   "id": "5a5f1e05",
   "metadata": {},
   "outputs": [],
   "source": [
    "print(lista1 is lista2) # False, porque 'lista1' y 'lista2' hacen referencia a diferentes objetos en memoria"
   ]
  },
  {
   "cell_type": "markdown",
   "id": "29d1ae12",
   "metadata": {},
   "source": [
    "- El operador **no**. El operador **no** es un operador que devuelve el valor opuesto de la expresión evaluada. Si la expresión tiene el valor True, devuelve False. Por el contrario, si la expresión tiene el valor False, devuelve True."
   ]
  },
  {
   "cell_type": "code",
   "execution_count": null,
   "id": "70ecf121",
   "metadata": {},
   "outputs": [],
   "source": [
    "not(lista1 == lista2)"
   ]
  },
  {
   "cell_type": "markdown",
   "id": "d5122028",
   "metadata": {
    "lang": "en"
   },
   "source": [
    "- El operador **y** evalúa si ambas expresiones son verdaderas. Si ambas expresiones son verdaderas, devuelve True. Si alguna de las expresiones es falsa, devuelve False. Estos tipos de tablas se conocen formalmente como \"tablas de verdad\"."
   ]
  },
  {
   "cell_type": "code",
   "execution_count": null,
   "id": "6096259b",
   "metadata": {},
   "outputs": [],
   "source": [
    "# Same to (lista1 == lista2) & (a == lista2) \n",
    "(lista1 == lista2) and (a == lista2) "
   ]
  },
  {
   "cell_type": "markdown",
   "id": "ddb3ca4d",
   "metadata": {
    "lang": "en"
   },
   "source": [
    "- El operador **o** evalúa si alguna de las expresiones es verdadera, es decir, devuelve True si alguna de las expresiones es verdadera y False cuando ambas expresiones son falsas."
   ]
  },
  {
   "cell_type": "code",
   "execution_count": null,
   "id": "3c409f34",
   "metadata": {},
   "outputs": [],
   "source": [
    "# Same to (lista1 == lista2) | (a == lista2) \n",
    "(lista1 == lista2) or (a == lista2) "
   ]
  },
  {
   "cell_type": "markdown",
   "id": "e373cd72",
   "metadata": {},
   "source": [
    "### Ejercicio: Explorando los Operadores Relacionales\n",
    "\n",
    "En este ejercicio, exploraremos los diversos operadores relacionales disponibles en Python. Estos operadores se utilizan principalmente para establecer relaciones entre diferentes valores y son esenciales en estructuras de toma de decisiones, aunque no los usaremos en esa capacidad en este ejercicio. Utilizando estos operadores, por favor realiza las siguientes tareas:\n",
    "\n",
    "#### Tarea 1: Operador Igual a (==)\n",
    "1. Crea dos cadenas y verifica si son iguales usando `==`. Imprime el resultado.\n",
    "2. Crea dos listas con elementos iguales y verifica si son iguales usando `==`. Imprime el resultado.\n",
    "\n",
    "#### Tarea 2: Operador No Igual a (!=)\n",
    "1. Crea dos enteros y verifica si no son iguales usando `!=`. Imprime el resultado.\n",
    "2. Usa la función `input()` para obtener dos entradas del usuario y verifica si no son iguales usando `!=`. Imprime el resultado.\n",
    "\n",
    "#### Tarea 3: Operadores Mayor que y Menor que (>, <)\n",
    "1. Crea dos números de punto flotante y verifica si uno es mayor que el otro usando `>`. Imprime el resultado.\n",
    "2. Crea dos números de punto flotante y verifica si uno es menor que el otro usando `<`. Imprime el resultado.\n",
    "\n",
    "#### Tarea 4: Operadores Mayor o Igual a y Menor o Igual a (>=, <=)\n",
    "1. Crea dos enteros y verifica si uno es mayor o igual al otro usando `>=`. Imprime el resultado.\n",
    "2. Crea dos enteros y verifica si uno es menor o igual al otro usando `<=`. Imprime el resultado."
   ]
  },
  {
   "cell_type": "code",
   "execution_count": null,
   "id": "5de219ad",
   "metadata": {},
   "outputs": [],
   "source": [
    "# tu codígo aquí"
   ]
  },
  {
   "cell_type": "markdown",
   "id": "attended-assurance",
   "metadata": {},
   "source": [
    "# Bucles y esas cosas\n",
    "![](https://i1.sndcdn.com/artworks-SvzDuFfyt3AJ9fO1-iQrV9Q-t500x500.jpg)\n",
    "En programación, un **bucle** es un concepto fundamental que permite repetir un bloque de código varias veces. Facilita la ejecución de tareas repetitivas sin necesidad de escribir las mismas líneas de código una y otra vez, promoviendo tanto la eficiencia como la legibilidad. La idea básica es recorrer un bloque de código mientras una condición especificada permanezca verdadera.\n",
    "\n",
    "Generalmente, hay dos tipos de bucles que encontrarás:\n",
    "\n",
    "1. **Bucle For**: Generalmente se usa para iterar sobre una colección de elementos, como elementos en una lista, tupla o cadena. Ejecutará un bloque de código para cada elemento en la colección, lo que hace más simple y limpio realizar la misma acción en múltiples elementos.\n",
    "\n",
    "2. **Bucle While**: Este tipo de bucle continúa ejecutando un bloque de código mientras una condición particular se cumpla. Es crucial actualizar las variables que influyen en la condición dentro del bucle, para evitar crear un bucle infinito.\n",
    "\n",
    "Los bucles son herramientas increíblemente poderosas en programación, ayudando a ahorrar tiempo y reducir el potencial de errores en tu código. A medida que avances en tu aprendizaje, encontrarás que los bucles son componentes esenciales en muchas soluciones de programación, facilitando la creación de soluciones complejas, eficientes e innovadoras para una amplia gama de problemas.\n",
    "\n",
    "En las siguientes secciones, exploraremos ambos tipos de bucles con más detalle, con ejemplos para ilustrar su uso y versatilidad en tareas de programación.\n",
    "\n",
    "¡Feliz bucleo!\n",
    "## Pseudocódigo\n",
    "\n",
    "Antes de sumergirnos en el mundo de los bucles, tomemos un momento para entender qué es el \"Pseudocódigo\". El pseudocódigo es una descripción de alto nivel del funcionamiento de un programa de computadora o algoritmo. Utiliza las convenciones estructurales de los lenguajes de programación, pero está diseñado para ser leído por humanos en lugar de máquinas.\n",
    "\n",
    "En el pseudocódigo, no nos preocupamos por la sintaxis precisa que un lenguaje de programación pueda requerir. En cambio, nos enfocamos en expresar la lógica y los pasos necesarios para resolver un problema o lograr una tarea, a menudo en lenguaje natural mezclado con algunas estructuras de programación comunes. Esto significa que el pseudocódigo no tiene una sintaxis estricta y puede variar ampliamente.\n",
    "\n",
    "El objetivo principal de escribir pseudocódigo es delinear la estructura del programa y delinear su flujo lógico sin quedar atrapados en los detalles específicos de un lenguaje de programación particular. Esto lo convierte en una herramienta útil para planificar y diseñar programas, donde el énfasis está en qué hacer en lugar de cómo hacerlo.\n",
    "\n",
    "Aquí hay algunas características generales del pseudocódigo:\n",
    "1. **Simplicidad**: Debe ser simple y fácil de entender.\n",
    "2. **Claridad**: Cada paso está claramente definido sin ambigüedad.\n",
    "3. **Independencia del lenguaje**: No se adhiere a la sintaxis de ningún lenguaje de programación específico.\n",
    "4. **Enfoque en la Lógica**: El enfoque principal está en la lógica y flujo del algoritmo, más que en la sintaxis específica de un lenguaje de programación.\n",
    "\n",
    "A medida que comiences a trabajar con bucles y otras estructuras de programación, encontrarás que crear pseudocódigo puede ser un valioso primer paso en el proceso de codificación, ayudándote a organizar tus pensamientos y crear un mapa de ruta para tu programa antes de comenzar a escribir código real."
   ]
  },
  {
   "cell_type": "code",
   "execution_count": 1,
   "id": "a1b077ff",
   "metadata": {},
   "outputs": [],
   "source": [
    "# una lista de elementos\n",
    "# recorrer la lista\n",
    "# y verificar si el tipo es un número\n",
    "\n",
    "# si el tipo es un número\n",
    "# hago cosas\n",
    "\n",
    "# ¿QUÉ TENGO?: LISTA DE LISTAS CON NÚMEROS\n",
    "    # original = [[1, 2], [3], [5, 6, 9]]\n",
    "        # 1. Crear una new_list\n",
    "        # 2. OBJETIVO: Sacar el elemento\n",
    "            # 3. Acceder al elemento\n",
    "            # 4. recorrer la lista original: [1, 2]\n",
    "            # 5. recorrer la i/individual_list nuevamente\n",
    "            # 6: añadir a new_list\n",
    "            # 7: imprimir\n",
    "    \n",
    "# OBJETIVO: QUÉ RESULTADO NECESITO DEVOLVER\n",
    "    # [1, 2, 3, 4, 5, 6]\n",
    "    \n",
    "# siempre imprimir"
   ]
  },
  {
   "cell_type": "markdown",
   "id": "4690d4e0",
   "metadata": {},
   "source": [
    "Tarjeta de información rápida:\n",
    "\n",
    "En Python, la función `range()` se utiliza para generar una secuencia de números con el tiempo. Se utiliza ampliamente en bucles para controlar el número de iteraciones. La función tiene tres parámetros: start, stop y step.\n",
    "\n",
    "- **Start (Inicio)**: Este parámetro especifica el punto de inicio de la secuencia. Es opcional, y el valor por defecto es 0.\n",
    "- **Stop (Detener)**: Este parámetro especifica el punto final de la secuencia. Este valor no está incluido en la secuencia.\n",
    "- **Step (Paso)**: Este parámetro especifica el incremento entre cada número en la secuencia. Es opcional, y el valor por defecto es 1.\n",
    "\n",
    "Aquí está la sintaxis para la función `range()`:\n",
    "\n",
    "- range(start, stop, step)\n",
    "\n",
    "Algunos ejemplos:"
   ]
  },
  {
   "cell_type": "code",
   "execution_count": null,
   "id": "89f2329b",
   "metadata": {
    "scrolled": true
   },
   "outputs": [],
   "source": [
    "for i in range(1, 6):\n",
    "    print(i)"
   ]
  },
  {
   "cell_type": "code",
   "execution_count": null,
   "id": "9fdcf991",
   "metadata": {},
   "outputs": [],
   "source": [
    "# práctica aquí"
   ]
  },
  {
   "cell_type": "markdown",
   "id": "fee3afff",
   "metadata": {},
   "source": [
    "Más complejo:"
   ]
  },
  {
   "cell_type": "code",
   "execution_count": null,
   "id": "23dd3aa0",
   "metadata": {
    "scrolled": true
   },
   "outputs": [],
   "source": [
    "# Esta es la lista original de listas donde cada elemento es una lista que contiene enteros.\n",
    "original = [[1, 2], [3], [5, 6, 9]]\n",
    "\n",
    "# Se inicializa una nueva lista vacía para almacenar los elementos individuales después de aplanar la lista original.\n",
    "new_list = []\n",
    "\n",
    "# El bucle exterior itera a través de cada lista individual dentro de la lista original.\n",
    "for individual_list in original:\n",
    "    # El bucle interior itera a través de cada elemento en la lista individual actualmente seleccionada (del bucle exterior).\n",
    "    for each_element in individual_list:\n",
    "        # El elemento actual de la lista individual se añade a la nueva lista.\n",
    "        new_list.append(each_element)\n",
    "\n",
    "# Imprimiendo la new_list para ver el resultado final.\n",
    "print(new_list)"
   ]
  },
  {
   "cell_type": "markdown",
   "id": "8a77f835",
   "metadata": {},
   "source": [
    "Debug de lo que está pasando:"
   ]
  },
  {
   "cell_type": "code",
   "execution_count": 2,
   "id": "a36780d7",
   "metadata": {},
   "outputs": [
    {
     "name": "stdout",
     "output_type": "stream",
     "text": [
      "[1, 2]\n",
      "[3]\n",
      "[5, 6, 9, [1, 2]]\n"
     ]
    }
   ],
   "source": [
    "# Estamos definiendo una lista llamada 'bigger_list' que contiene varias otras listas, una de las cuales está anidada\n",
    "bigger_list = [[1, 2], [3], [5, 6, 9, [1, 2]]]\n",
    "\n",
    "# Estamos iniciando un bucle for para iterar sobre cada 'small_list' presente dentro de la 'bigger_list'\n",
    "for small_list in bigger_list:\n",
    "    # Dentro del bucle, estamos imprimiendo la 'small_list' actual sobre la que el bucle está iterando\n",
    "    print(small_list)\n",
    "    # Una vez que se alcanza el final del bucle, vuelve al inicio para procesar la siguiente 'small_list' en la 'bigger_list'"
   ]
  },
  {
   "cell_type": "markdown",
   "id": "66a5e23a",
   "metadata": {},
   "source": [
    "### Ejercicio:\n",
    "\n",
    "Trabajas en el departamento de ventas de una empresa. Al final de cada semana, necesitas generar un informe de las ventas totales realizadas cada día. Tienes una lista donde cada elemento representa las ventas realizadas en cada día de la semana (de lunes a domingo). Tu tarea es calcular las ventas totales de la semana.\n",
    "\n",
    "Para completar este ejercicio, necesitas seguir los pasos dados:\n",
    "\n",
    "1. **Inicializar Variables**:\n",
    "    Antes de comenzar el bucle, inicializa una variable `total_sales` a 0. Esto se utilizará para acumular las ventas de cada día. Adicionalmente, inicializa `max_sales` a 0.\n",
    "   \n",
    "   \n",
    "2. **Creando un Bucle**:\n",
    "    Crea un bucle for donde iteres sobre cada elemento en la lista `sales_data`. Puedes usar una estructura de bucle como esta: for day in sales_data:\n",
    "   \n",
    "   \n",
    "3. **Calculando las Ventas Totales**:\n",
    "    Dentro del bucle, suma las ventas del día actual a `total_sales`. Puedes hacer esto usando una declaración de asignación como esta: total_sales += day\n",
    "\n",
    "\n",
    "\n",
    "5. **Imprimiendo los Resultados**:\n",
    "    Después del bucle, imprime el `total_sales` junto con mensajes apropiados para mostrar las ventas totales de la semana y el día con máximas ventas."
   ]
  },
  {
   "cell_type": "code",
   "execution_count": null,
   "id": "3bd7d85f",
   "metadata": {},
   "outputs": [],
   "source": [
    "# Lista que representa los datos de ventas de siete días (en unidades)\n",
    "sales_data = [200, 300, 400, 500, 600, 700, 800]\n",
    "\n",
    "# Inicializar total_sales a 0 antes de empezar el bucle\n",
    "total_sales = 0\n",
    "\n",
    "# Inicializar max_sales antes de empezar el bucle\n",
    "max_sales = 0\n",
    "\n",
    "# {YOUR CODE HERE}"
   ]
  },
  {
   "cell_type": "markdown",
   "id": "580479b3",
   "metadata": {},
   "source": [
    "## La sentencia \"If\"\n",
    "Esta es la opción más popular para controlar el flujo de un programa. Las condiciones te permiten elegir entre diferentes caminos dependiendo del valor de una expresión. Cuando quieres ejecutar una acción solo cuando alguna condición es `True`, se utiliza una sentencia \"if\":\n",
    "\n",
    "#### Cosas de sintaxis a considerar:\n",
    "- indentación: `tab / 5 espacios`\n",
    "- dos puntos: `:`"
   ]
  },
  {
   "cell_type": "code",
   "execution_count": null,
   "id": "ef3ac3be",
   "metadata": {},
   "outputs": [],
   "source": [
    "age = 20\n",
    "\n",
    "if age >= 21:\n",
    "    print(\"Adult\")"
   ]
  },
  {
   "cell_type": "markdown",
   "id": "baa11a80",
   "metadata": {
    "lang": "en"
   },
   "source": [
    "Como podemos ver, el bloque de código asociado con la condición comienza después del dos puntos \":\", con una indentación que determina el bloque de código. Todas las declaraciones pertenecientes al mismo bloque deben tener la misma indentación. El bloque termina cuando la indentación vuelve a la posición inicial de la declaración if. Recuerda que Python utiliza la indentación para identificar bloques de código.\n",
    "\n",
    "### elif\n",
    "A veces hay más de dos posibilidades. Piensa en algo como:\n",
    "\"Si Bob puede entrar a la discoteca, déjalo entrar. Si no, si tiene más de 16 años, recomiéndale la discoteca ligera cercana. Si no, envíalo a casa.\"\n",
    "\n",
    "Podemos lograr esto con la cláusula `elif` y los condicionales encadenados:"
   ]
  },
  {
   "cell_type": "code",
   "execution_count": null,
   "id": "82badc29",
   "metadata": {},
   "outputs": [],
   "source": [
    "age = 20\n",
    "\n",
    "if age >= 21:\n",
    "    print(\"Adult\")\n",
    "    \n",
    "elif age < 21:\n",
    "    print(\"Not an adult\")"
   ]
  },
  {
   "cell_type": "markdown",
   "id": "770fbd1a",
   "metadata": {
    "lang": "en"
   },
   "source": [
    "### else\n",
    "A veces quieres que si la condición no se cumple (y solo entonces) se ejecute otra acción. Son acciones mutuamente excluyentes. Esto se logra con la declaración `else`.\n",
    "\n",
    "![if](https://www.tutorialspoint.com/scala/images/scala_decision_making.jpg)"
   ]
  },
  {
   "cell_type": "code",
   "execution_count": null,
   "id": "5c7a1210",
   "metadata": {},
   "outputs": [],
   "source": [
    "edad = 14\n",
    "\n",
    "if edad >= 21:\n",
    "    print(\"Adulto\")\n",
    "    \n",
    "elif edad >= 16 and edad < 21:\n",
    "    print(\"No es adulto\")\n",
    "    \n",
    "else:\n",
    "    print(\"no condición 1, no condición 2\")"
   ]
  },
  {
   "cell_type": "markdown",
   "id": "50d43411",
   "metadata": {},
   "source": [
    "En la programación de Python, una instrucción if anidada es una instrucción if que es el objetivo de otra instrucción if. Las instrucciones if anidadas significan una instrucción if dentro de otra instrucción if. Sí, Python nos permite anidar instrucciones if dentro de instrucciones if. Aquí está la forma general de una instrucción if anidada"
   ]
  },
  {
   "cell_type": "code",
   "execution_count": null,
   "id": "36b1c6ee",
   "metadata": {},
   "outputs": [],
   "source": [
    "# 1. Toma la entrada de un usuario (controlando que sea un entero)\n",
    "edad = int(input(\"Por favor, introduce tu edad: \"))\n",
    "\n",
    "# 2. Basado en condiciones: devuelve algo o algo más\n",
    "if edad > 0:\n",
    "    if edad < 16:\n",
    "        print(\"NO puedes entrar\")\n",
    "\n",
    "    elif edad >= 16 and edad < 18:\n",
    "        print(\"Club sin alcohol\")\n",
    "\n",
    "\n",
    "    elif edad >= 18:\n",
    "        print(\"Puedes entrar\")\n",
    "        \n",
    "else:\n",
    "    print(\"Lo siento, información incorrecta: ¿valor negativo?\")"
   ]
  },
  {
   "cell_type": "code",
   "execution_count": null,
   "id": "f2fd273c",
   "metadata": {},
   "outputs": [],
   "source": [
    "# Asignar una cadena que se pretende representar una contraseña a la variable 'password'\n",
    "password = \"12345678909876dcvbnhjytfgvb+\"\n",
    "\n",
    "# Verificar si la longitud de la contraseña es mayor a 8, si es verdadero, imprimir \"ok\"\n",
    "if len(password) > 8:\n",
    "        print(\"ok\")\n",
    "\n",
    "# Verificar si la contraseña contiene alguna letra, si es verdadero, imprimir \"empieza con L\"\n",
    "# (Nota: La condición actual siempre se evaluará como Verdadera ya que está comprobando si la contraseña no está vacía.\n",
    "# Para comprobar la presencia de letras, podrías necesitar modificar la condición usando any(x.isalpha() for x in password))\n",
    "if any(x.isalpha() for x in password): # tiene letras\n",
    "    print(\"empieza con L\")\n",
    "    \n",
    "# Verificar si la contraseña contiene algún número, si es verdadero, imprimir \"El nombre es Lola\"\n",
    "# (Nota: Similar a la nota anterior, la condición aquí comprueba si la contraseña no está vacía, \n",
    "# para comprobar la presencia de números podrías querer modificar la condición usando any(x.isdigit() for x in password))\n",
    "if any(x.isdigit() for x in password): # tiene números:\n",
    "    print(\"El nombre es Lola\")\n",
    "    \n",
    "# (... modifia el codígo para que se genere el output deseado"
   ]
  },
  {
   "cell_type": "markdown",
   "id": "71dcc64c",
   "metadata": {
    "lang": "en"
   },
   "source": [
    "Quick tip:\n",
    "```python\n",
    "if no sé qué:\n",
    "    no sé\n",
    "elif: # Esta línea debería ser corregida para reflejar una condición válida, ya que \"elif\" siempre requiere una condición\n",
    "    algo más\n",
    "\n",
    "```\n",
    "\n",
    "💩 Es computacionalmente más eficiente usar elif, aunque este código funciona, Python entrará y comprobará todos los if"
   ]
  },
  {
   "cell_type": "code",
   "execution_count": null,
   "id": "413a3013",
   "metadata": {},
   "outputs": [],
   "source": [
    "# IF & IF: cuando más de una condición puede cumplirse a la vez\n",
    "    # todos los if se leen\n",
    "    # todos los if serán leídos\n",
    "    \n",
    "# IF & ELIF: cuando solo una debe cumplirse\n",
    "    # solo se leen los necesarios\n",
    "    # mejor: más conservador"
   ]
  },
  {
   "cell_type": "markdown",
   "id": "a62738d2",
   "metadata": {},
   "source": [
    "### Extensión de ejercicio:\n",
    "Utiliza if statements, para calcularl el top de ventas, y que días fueron el máximo."
   ]
  },
  {
   "cell_type": "code",
   "execution_count": null,
   "id": "65c946ed",
   "metadata": {},
   "outputs": [],
   "source": [
    "# Lista representando los datos de ventas para siete días (en unidades)\n",
    "sales_data = [200, 300, 400, 500, 600, 700, 800]\n",
    "\n",
    "# Inicializar total_sales a 0 antes de empezar el bucle\n",
    "total_sales = 0\n",
    "\n",
    "# Inicializar max_sales antes de empezar el bucle\n",
    "max_sales = 0\n",
    "\n",
    "# Inicializar max_sales_day para rastrear el día de ventas máximas\n",
    "max_sales_day = 0\n",
    "\n",
    "# {YOUR CODE HERE}"
   ]
  },
  {
   "cell_type": "markdown",
   "id": "4119b21e",
   "metadata": {
    "lang": "en"
   },
   "source": [
    "# Desafío 🤔\n",
    "\n",
    "Escribe un programa simple que imprima si Bob puede entrar al club\n",
    "para cualquier dos valores de las siguientes variables:\n",
    "`print(edad_bob, edad_minima)`"
   ]
  },
  {
   "cell_type": "code",
   "execution_count": null,
   "id": "5d8caf12",
   "metadata": {},
   "outputs": [],
   "source": [
    "# age\n",
    "    # club\n",
    "    # cannot club\n",
    "    # club: 16-18"
   ]
  },
  {
   "cell_type": "markdown",
   "id": "a9b00fd8",
   "metadata": {
    "lang": "en"
   },
   "source": [
    "### Tus ejemplos 🚀"
   ]
  },
  {
   "cell_type": "code",
   "execution_count": null,
   "id": "0833207b",
   "metadata": {},
   "outputs": [],
   "source": []
  },
  {
   "cell_type": "markdown",
   "id": "5f01cb54",
   "metadata": {
    "lang": "en"
   },
   "source": [
    "# Desafío 🤔\n",
    "\n",
    "Modifica tu programa para que cuando Bob no pueda entrar al club pero sea mayor de edad legal (edad=21),\n",
    "lo envíe a la luz de discoteca."
   ]
  },
  {
   "cell_type": "code",
   "execution_count": null,
   "id": "transparent-nickname",
   "metadata": {},
   "outputs": [],
   "source": []
  },
  {
   "cell_type": "markdown",
   "id": "b217ff64",
   "metadata": {
    "lang": "en"
   },
   "source": [
    "Imaginemos que estamos construyendo el programa para un robot que clasifica huevos por tamaño. Nuestro brazo robot recibe información de una báscula, que indica, en gramos, el peso del huevo a clasificar. El brazo debe, a partir del peso, colocar el huevo en una caja u otra de la siguiente manera:\n",
    "\n",
    "- **Caja S** (pequeña): peso menor de 53 gramos.\n",
    "- **Caja M** (mediana): peso mayor o igual a 53 gramos y menor de 63 gramos.\n",
    "- **Caja L** (grande): peso mayor o igual a 63 gramos y menor de 73 gramos.\n",
    "- **Caja XL** (súper grande): peso mayor o igual a 73 gramos.\n",
    "\n",
    "## Resumen\n",
    "\n",
    "[Depuración del pato de goma](https://www.freecodecamp.org/news/rubber-duck-debugging/#:~:text=The%20idea%20behind%20the%20rubber,loud%20before%20you%20post%20it)\n",
    "\n",
    "La \"Teoría del Pato de Goma\" o \"Depuración del Pato de Goma\" es un método utilizado para encontrar errores o bugs en un código. En esta técnica, el programador explica su código, línea por línea, a un objeto inanimado como un pato de goma. El acto de explicar el código en detalle a menudo ayuda al programador a ver errores o mejoras que no habían notado antes. Esto es similar a escribir un mensaje en redes sociales y luego leerlo en voz alta antes de publicarlo, lo que a veces puede ayudar a detectar errores o reconsiderar el contenido del mensaje.\n",
    "\n",
    "## Materiales adicionales\n",
    "\n",
    "* [Documentación de Python](https://docs.python.org/3/tutorial/controlflow.html)\n",
    "* Tutorial breve sobre [Booleanos en Python](https://realpython.com/python-boolean/)\n",
    "* Solo una charla interesante de [Feynman](https://www.youtube.com/watch?v=EKWGGDXe5MA) sobre los principios de la computación"
   ]
  }
 ],
 "metadata": {
  "kernelspec": {
   "display_name": "Python 3 (ipykernel)",
   "language": "python",
   "name": "python3"
  },
  "language_info": {
   "codemirror_mode": {
    "name": "ipython",
    "version": 3
   },
   "file_extension": ".py",
   "mimetype": "text/x-python",
   "name": "python",
   "nbconvert_exporter": "python",
   "pygments_lexer": "ipython3",
   "version": "3.9.13"
  },
  "nbTranslate": {
   "displayLangs": [
    "en",
    "es"
   ],
   "hotkey": "alt-a",
   "langInMainMenu": true,
   "sourceLang": "es",
   "targetLang": "en",
   "useGoogleTranslate": true
  },
  "toc": {
   "base_numbering": 1,
   "nav_menu": {},
   "number_sections": true,
   "sideBar": true,
   "skip_h1_title": true,
   "title_cell": "Table of Contents",
   "title_sidebar": "Contents",
   "toc_cell": true,
   "toc_position": {
    "height": "calc(100% - 180px)",
    "left": "10px",
    "top": "150px",
    "width": "165px"
   },
   "toc_section_display": true,
   "toc_window_display": true
  }
 },
 "nbformat": 4,
 "nbformat_minor": 5
}
